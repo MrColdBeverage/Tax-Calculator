{
 "cells": [
  {
   "cell_type": "markdown",
   "metadata": {},
   "source": [
    "# Recipe 4: Estimating Differential Reform Response - pandas version\n",
    "\n",
    "This is an advanced recipe that should be followed only after mastering the basic recipe.\n",
    "This recipe shows how to estimate the reform response in charitable giving when the response elasticities vary by earnings group.\n",
    "It employs the groupby technique used in the Creating a Custom Table recipe, so you might want to read that recipe first."
   ]
  },
  {
   "cell_type": "code",
   "execution_count": 1,
   "metadata": {
    "tags": [
     "remove-cell"
    ]
   },
   "outputs": [],
   "source": [
    "# Install conda, taxcalc, and behresp if in Google Colab.\n",
    "# the `&> /dev/null` silences output except for errors\n",
    "import sys\n",
    "if 'google.colab' in sys.modules and 'taxbrain' not in sys.modules:\n",
    "    !wget https://repo.continuum.io/miniconda/Miniconda3-latest-Linux-x86_64.sh &> /dev/null\n",
    "    !bash Miniconda3-latest-Linux-x86_64.sh -bfp /usr/local &> /dev/null\n",
    "    # Append path to be able to run packages installed with conda\n",
    "    # This must correspond to the conda Python version, which may differ from\n",
    "    # the base Colab Python installation.\n",
    "    sys.path.append('/usr/local/lib/python3.8/site-packages')\n",
    "    # Install taxbrain\n",
    "    !yes | conda install -c conda-forge taxcalc &> /dev/null\n",
    "    !yes | conda install -c conda-forge behresp &> /dev/null"
   ]
  },
  {
   "cell_type": "code",
   "execution_count": 2,
   "metadata": {
    "hide-output": false
   },
   "outputs": [
    {
     "ename": "ValueError",
     "evalue": "Unable to decode JSON string: {\n    \"policy\": {\n        \"II_em\": {\"2020\": 2000},\n        \"STD\": {\"2020\": [6000, 12000,",
     "output_type": "error",
     "traceback": [
      "\u001b[0;31m---------------------------------------------------------------------------\u001b[0m",
      "\u001b[0;31mJSONDecodeError\u001b[0m                           Traceback (most recent call last)",
      "\u001b[0;32m~/anaconda3/envs/taxcalc-dev/lib/python3.8/site-packages/paramtools/utils.py\u001b[0m in \u001b[0;36mread_json\u001b[0;34m(params_or_path, storage_options)\u001b[0m\n\u001b[1;32m    108\u001b[0m             \u001b[0mres\u001b[0m \u001b[0;34m=\u001b[0m \u001b[0mremove_comments\u001b[0m\u001b[0;34m(\u001b[0m\u001b[0mres\u001b[0m\u001b[0;34m)\u001b[0m\u001b[0;34m\u001b[0m\u001b[0;34m\u001b[0m\u001b[0m\n\u001b[0;32m--> 109\u001b[0;31m             \u001b[0;32mreturn\u001b[0m \u001b[0mjson\u001b[0m\u001b[0;34m.\u001b[0m\u001b[0mloads\u001b[0m\u001b[0;34m(\u001b[0m\u001b[0mres\u001b[0m\u001b[0;34m,\u001b[0m \u001b[0mobject_pairs_hook\u001b[0m\u001b[0;34m=\u001b[0m\u001b[0mOrderedDict\u001b[0m\u001b[0;34m)\u001b[0m\u001b[0;34m\u001b[0m\u001b[0;34m\u001b[0m\u001b[0m\n\u001b[0m\u001b[1;32m    110\u001b[0m         \u001b[0;32mexcept\u001b[0m \u001b[0mjson\u001b[0m\u001b[0;34m.\u001b[0m\u001b[0mJSONDecodeError\u001b[0m \u001b[0;32mas\u001b[0m \u001b[0mje\u001b[0m\u001b[0;34m:\u001b[0m\u001b[0;34m\u001b[0m\u001b[0;34m\u001b[0m\u001b[0m\n",
      "\u001b[0;32m~/anaconda3/envs/taxcalc-dev/lib/python3.8/json/__init__.py\u001b[0m in \u001b[0;36mloads\u001b[0;34m(s, cls, object_hook, parse_float, parse_int, parse_constant, object_pairs_hook, **kw)\u001b[0m\n\u001b[1;32m    369\u001b[0m         \u001b[0mkw\u001b[0m\u001b[0;34m[\u001b[0m\u001b[0;34m'parse_constant'\u001b[0m\u001b[0;34m]\u001b[0m \u001b[0;34m=\u001b[0m \u001b[0mparse_constant\u001b[0m\u001b[0;34m\u001b[0m\u001b[0;34m\u001b[0m\u001b[0m\n\u001b[0;32m--> 370\u001b[0;31m     \u001b[0;32mreturn\u001b[0m \u001b[0mcls\u001b[0m\u001b[0;34m(\u001b[0m\u001b[0;34m**\u001b[0m\u001b[0mkw\u001b[0m\u001b[0;34m)\u001b[0m\u001b[0;34m.\u001b[0m\u001b[0mdecode\u001b[0m\u001b[0;34m(\u001b[0m\u001b[0ms\u001b[0m\u001b[0;34m)\u001b[0m\u001b[0;34m\u001b[0m\u001b[0;34m\u001b[0m\u001b[0m\n\u001b[0m",
      "\u001b[0;32m~/anaconda3/envs/taxcalc-dev/lib/python3.8/json/decoder.py\u001b[0m in \u001b[0;36mdecode\u001b[0;34m(self, s, _w)\u001b[0m\n\u001b[1;32m    336\u001b[0m         \"\"\"\n\u001b[0;32m--> 337\u001b[0;31m         \u001b[0mobj\u001b[0m\u001b[0;34m,\u001b[0m \u001b[0mend\u001b[0m \u001b[0;34m=\u001b[0m \u001b[0mself\u001b[0m\u001b[0;34m.\u001b[0m\u001b[0mraw_decode\u001b[0m\u001b[0;34m(\u001b[0m\u001b[0ms\u001b[0m\u001b[0;34m,\u001b[0m \u001b[0midx\u001b[0m\u001b[0;34m=\u001b[0m\u001b[0m_w\u001b[0m\u001b[0;34m(\u001b[0m\u001b[0ms\u001b[0m\u001b[0;34m,\u001b[0m \u001b[0;36m0\u001b[0m\u001b[0;34m)\u001b[0m\u001b[0;34m.\u001b[0m\u001b[0mend\u001b[0m\u001b[0;34m(\u001b[0m\u001b[0;34m)\u001b[0m\u001b[0;34m)\u001b[0m\u001b[0;34m\u001b[0m\u001b[0;34m\u001b[0m\u001b[0m\n\u001b[0m\u001b[1;32m    338\u001b[0m         \u001b[0mend\u001b[0m \u001b[0;34m=\u001b[0m \u001b[0m_w\u001b[0m\u001b[0;34m(\u001b[0m\u001b[0ms\u001b[0m\u001b[0;34m,\u001b[0m \u001b[0mend\u001b[0m\u001b[0;34m)\u001b[0m\u001b[0;34m.\u001b[0m\u001b[0mend\u001b[0m\u001b[0;34m(\u001b[0m\u001b[0;34m)\u001b[0m\u001b[0;34m\u001b[0m\u001b[0;34m\u001b[0m\u001b[0m\n",
      "\u001b[0;32m~/anaconda3/envs/taxcalc-dev/lib/python3.8/json/decoder.py\u001b[0m in \u001b[0;36mraw_decode\u001b[0;34m(self, s, idx)\u001b[0m\n\u001b[1;32m    354\u001b[0m         \u001b[0;32mexcept\u001b[0m \u001b[0mStopIteration\u001b[0m \u001b[0;32mas\u001b[0m \u001b[0merr\u001b[0m\u001b[0;34m:\u001b[0m\u001b[0;34m\u001b[0m\u001b[0;34m\u001b[0m\u001b[0m\n\u001b[0;32m--> 355\u001b[0;31m             \u001b[0;32mraise\u001b[0m \u001b[0mJSONDecodeError\u001b[0m\u001b[0;34m(\u001b[0m\u001b[0;34m\"Expecting value\"\u001b[0m\u001b[0;34m,\u001b[0m \u001b[0ms\u001b[0m\u001b[0;34m,\u001b[0m \u001b[0merr\u001b[0m\u001b[0;34m.\u001b[0m\u001b[0mvalue\u001b[0m\u001b[0;34m)\u001b[0m \u001b[0;32mfrom\u001b[0m \u001b[0;32mNone\u001b[0m\u001b[0;34m\u001b[0m\u001b[0;34m\u001b[0m\u001b[0m\n\u001b[0m\u001b[1;32m    356\u001b[0m         \u001b[0;32mreturn\u001b[0m \u001b[0mobj\u001b[0m\u001b[0;34m,\u001b[0m \u001b[0mend\u001b[0m\u001b[0;34m\u001b[0m\u001b[0;34m\u001b[0m\u001b[0m\n",
      "\u001b[0;31mJSONDecodeError\u001b[0m: Expecting value: line 4 column 38 (char 88)",
      "\nThe above exception was the direct cause of the following exception:\n",
      "\u001b[0;31mValueError\u001b[0m                                Traceback (most recent call last)",
      "\u001b[0;32m<ipython-input-2-e5fd4dcbc83b>\u001b[0m in \u001b[0;36m<module>\u001b[0;34m\u001b[0m\n\u001b[1;32m     23\u001b[0m \u001b[0;31m# specify Calculator object for static analysis of reform policy\u001b[0m\u001b[0;34m\u001b[0m\u001b[0;34m\u001b[0m\u001b[0;34m\u001b[0m\u001b[0m\n\u001b[1;32m     24\u001b[0m \u001b[0;31m# TODO: Move this reform online so this can be run non-locally.\u001b[0m\u001b[0;34m\u001b[0m\u001b[0;34m\u001b[0m\u001b[0;34m\u001b[0m\u001b[0m\n\u001b[0;32m---> 25\u001b[0;31m \u001b[0mpol\u001b[0m\u001b[0;34m.\u001b[0m\u001b[0mimplement_reform\u001b[0m\u001b[0;34m(\u001b[0m\u001b[0mtc\u001b[0m\u001b[0;34m.\u001b[0m\u001b[0mPolicy\u001b[0m\u001b[0;34m.\u001b[0m\u001b[0mread_json_reform\u001b[0m\u001b[0;34m(\u001b[0m\u001b[0;34m'https://raw.githubusercontent.com/PSLmodels/Tax-Calculator/master/docs/recipes/_static/reformB.json'\u001b[0m\u001b[0;34m)\u001b[0m\u001b[0;34m)\u001b[0m\u001b[0;34m\u001b[0m\u001b[0;34m\u001b[0m\u001b[0m\n\u001b[0m\u001b[1;32m     26\u001b[0m \u001b[0mcalc2\u001b[0m \u001b[0;34m=\u001b[0m \u001b[0mtc\u001b[0m\u001b[0;34m.\u001b[0m\u001b[0mCalculator\u001b[0m\u001b[0;34m(\u001b[0m\u001b[0mpolicy\u001b[0m\u001b[0;34m=\u001b[0m\u001b[0mpol\u001b[0m\u001b[0;34m,\u001b[0m \u001b[0mrecords\u001b[0m\u001b[0;34m=\u001b[0m\u001b[0mrecs\u001b[0m\u001b[0;34m)\u001b[0m\u001b[0;34m\u001b[0m\u001b[0;34m\u001b[0m\u001b[0m\n\u001b[1;32m     27\u001b[0m \u001b[0;34m\u001b[0m\u001b[0m\n",
      "\u001b[0;32m~/repos/tax-calculator/taxcalc/policy.py\u001b[0m in \u001b[0;36mread_json_reform\u001b[0;34m(obj)\u001b[0m\n\u001b[1;32m    110\u001b[0m         \u001b[0mpointing\u001b[0m \u001b[0mto\u001b[0m \u001b[0ma\u001b[0m \u001b[0mvalid\u001b[0m \u001b[0mJSON\u001b[0m \u001b[0mfile\u001b[0m \u001b[0mhosted\u001b[0m \u001b[0monline\u001b[0m\u001b[0;34m,\u001b[0m \u001b[0;32mor\u001b[0m \u001b[0ma\u001b[0m \u001b[0mvalid\u001b[0m \u001b[0mJSON\u001b[0m \u001b[0mtext\u001b[0m\u001b[0;34m.\u001b[0m\u001b[0;34m\u001b[0m\u001b[0;34m\u001b[0m\u001b[0m\n\u001b[1;32m    111\u001b[0m         \"\"\"\n\u001b[0;32m--> 112\u001b[0;31m         \u001b[0;32mreturn\u001b[0m \u001b[0mParameters\u001b[0m\u001b[0;34m.\u001b[0m\u001b[0m_read_json_revision\u001b[0m\u001b[0;34m(\u001b[0m\u001b[0mobj\u001b[0m\u001b[0;34m,\u001b[0m \u001b[0;34m'policy'\u001b[0m\u001b[0;34m)\u001b[0m\u001b[0;34m\u001b[0m\u001b[0;34m\u001b[0m\u001b[0m\n\u001b[0m\u001b[1;32m    113\u001b[0m \u001b[0;34m\u001b[0m\u001b[0m\n\u001b[1;32m    114\u001b[0m     def implement_reform(self, reform,\n",
      "\u001b[0;32m~/repos/tax-calculator/taxcalc/parameters.py\u001b[0m in \u001b[0;36m_read_json_revision\u001b[0;34m(obj, topkey)\u001b[0m\n\u001b[1;32m    747\u001b[0m             \u001b[0;32mreturn\u001b[0m \u001b[0mdict\u001b[0m\u001b[0;34m(\u001b[0m\u001b[0;34m)\u001b[0m\u001b[0;34m\u001b[0m\u001b[0;34m\u001b[0m\u001b[0m\n\u001b[1;32m    748\u001b[0m \u001b[0;34m\u001b[0m\u001b[0m\n\u001b[0;32m--> 749\u001b[0;31m         \u001b[0mfull_dict\u001b[0m \u001b[0;34m=\u001b[0m \u001b[0mpt\u001b[0m\u001b[0;34m.\u001b[0m\u001b[0mread_json\u001b[0m\u001b[0;34m(\u001b[0m\u001b[0mobj\u001b[0m\u001b[0;34m)\u001b[0m\u001b[0;34m\u001b[0m\u001b[0;34m\u001b[0m\u001b[0m\n\u001b[0m\u001b[1;32m    750\u001b[0m \u001b[0;34m\u001b[0m\u001b[0m\n\u001b[1;32m    751\u001b[0m         \u001b[0;31m# check top-level key contents of dictionary\u001b[0m\u001b[0;34m\u001b[0m\u001b[0;34m\u001b[0m\u001b[0;34m\u001b[0m\u001b[0m\n",
      "\u001b[0;32m~/anaconda3/envs/taxcalc-dev/lib/python3.8/site-packages/paramtools/utils.py\u001b[0m in \u001b[0;36mread_json\u001b[0;34m(params_or_path, storage_options)\u001b[0m\n\u001b[1;32m    111\u001b[0m             \u001b[0;32mif\u001b[0m \u001b[0mlen\u001b[0m\u001b[0;34m(\u001b[0m\u001b[0mres\u001b[0m\u001b[0;34m)\u001b[0m \u001b[0;34m>\u001b[0m \u001b[0;36m100\u001b[0m\u001b[0;34m:\u001b[0m\u001b[0;34m\u001b[0m\u001b[0;34m\u001b[0m\u001b[0m\n\u001b[1;32m    112\u001b[0m                 \u001b[0mres\u001b[0m \u001b[0;34m=\u001b[0m \u001b[0mres\u001b[0m\u001b[0;34m[\u001b[0m\u001b[0;34m:\u001b[0m\u001b[0;36m100\u001b[0m\u001b[0;34m]\u001b[0m \u001b[0;34m+\u001b[0m \u001b[0;34m\"...\"\u001b[0m \u001b[0;34m+\u001b[0m \u001b[0mres\u001b[0m\u001b[0;34m[\u001b[0m\u001b[0;34m-\u001b[0m\u001b[0;36m10\u001b[0m\u001b[0;34m:\u001b[0m\u001b[0;34m]\u001b[0m\u001b[0;34m\u001b[0m\u001b[0;34m\u001b[0m\u001b[0m\n\u001b[0;32m--> 113\u001b[0;31m             \u001b[0;32mraise\u001b[0m \u001b[0mValueError\u001b[0m\u001b[0;34m(\u001b[0m\u001b[0;34mf\"Unable to decode JSON string: {res}\"\u001b[0m\u001b[0;34m)\u001b[0m \u001b[0;32mfrom\u001b[0m \u001b[0mje\u001b[0m\u001b[0;34m\u001b[0m\u001b[0;34m\u001b[0m\u001b[0m\n\u001b[0m\u001b[1;32m    114\u001b[0m \u001b[0;34m\u001b[0m\u001b[0m\n\u001b[1;32m    115\u001b[0m     \u001b[0;32mif\u001b[0m \u001b[0misinstance\u001b[0m\u001b[0;34m(\u001b[0m\u001b[0mres\u001b[0m\u001b[0;34m,\u001b[0m \u001b[0mdict\u001b[0m\u001b[0;34m)\u001b[0m\u001b[0;34m:\u001b[0m\u001b[0;34m\u001b[0m\u001b[0;34m\u001b[0m\u001b[0m\n",
      "\u001b[0;31mValueError\u001b[0m: Unable to decode JSON string: {\n    \"policy\": {\n        \"II_em\": {\"2020\": 2000},\n        \"STD\": {\"2020\": [6000, 12000,"
     ]
    }
   ],
   "source": [
    "import taxcalc as tc\n",
    "import pandas as pd\n",
    "import numpy as np\n",
    "import behresp\n",
    "\n",
    "# use publicly-available CPS input file\n",
    "recs = tc.Records.cps_constructor()\n",
    "\n",
    "# specify Calculator object for static analysis of current-law policy\n",
    "pol = tc.Policy()\n",
    "calc1 = tc.Calculator(policy=pol, records=recs)\n",
    "\n",
    "CYR = 2020\n",
    "\n",
    "# calculate current-law tax liabilities for CYR\n",
    "calc1.advance_to_year(CYR)\n",
    "calc1.calc_all()\n",
    "\n",
    "# calculate marginal tax rate wrt cash charitable giving\n",
    "(_, _, mtr1) = calc1.mtr('e19800', calc_all_already_called=True,\n",
    "                         wrt_full_compensation=False)\n",
    "\n",
    "# specify Calculator object for static analysis of reform policy\n",
    "# TODO: Move this reform online so this can be run non-locally.\n",
    "pol.implement_reform(tc.Policy.read_json_reform('https://raw.githubusercontent.com/PSLmodels/Tax-Calculator/master/docs/recipes/_static/reformB.json'))\n",
    "calc2 = tc.Calculator(policy=pol, records=recs)\n",
    "\n",
    "# calculate reform tax liabilities for cyr\n",
    "calc2.advance_to_year(CYR)\n",
    "calc2.calc_all()\n",
    "\n",
    "# calculate marginal tax rate wrt cash charitable giving\n",
    "(_, _, mtr2) = calc2.mtr('e19800', calc_all_already_called=True,\n",
    "                         wrt_full_compensation=False)\n",
    "\n",
    "# extract variables needed for quantity_response function\n",
    "# (note the aftertax price is 1+mtr because mtr wrt charity is non-positive)\n",
    "vdf = calc1.dataframe(['s006', 'e19800', 'e00200'])\n",
    "vdf['price1'] = 1.0 + mtr1\n",
    "vdf['price2'] = 1.0 + mtr2\n",
    "vdf['atinc1'] = calc1.array('aftertax_income')\n",
    "vdf['atinc2'] = calc2.array('aftertax_income')\n",
    "\n",
    "# group filing units into earnings groups with different response elasticities\n",
    "# (note earnings groups are just an example based on no empirical results)\n",
    "EARNINGS_BINS = [-9e99, 50e3, 9e99]  # Two groups: below and above $50,000.\n",
    "vdf['table_row'] = pd.cut(vdf.e00200, EARNINGS_BINS, right=False).astype(str)\n",
    "\n",
    "vdf['price_elasticity'] = np.where(vdf.e00200 < EARNINGS_BINS[1],\n",
    "                                   -0.1, -0.4)\n",
    "vdf['income_elasticity'] = 0.1\n",
    "\n",
    "# create copies of vdf and subset by price elasticity\n",
    "vdf_1 = vdf.copy()\n",
    "vdf_2 = vdf.copy()\n",
    "\n",
    "vdf_1 = vdf_1.loc[vdf_1['price_elasticity']==-0.1]\n",
    "vdf_2 = vdf_2.loc[vdf_2['price_elasticity']==-0.4]\n",
    "\n",
    "# Calculate response based on features of each filing unit.\n",
    "# Call quantity_response for each subset (i.e. vdf_1 and vdf_2)\n",
    "vdf_1['response'] = behresp.quantity_response(quantity=vdf_1.e19800,\n",
    "                                              price_elasticity=-0.1,\n",
    "                                              aftertax_price1=vdf_1.price1,\n",
    "                                              aftertax_price2=vdf_1.price2,\n",
    "                                              income_elasticity=0.1,\n",
    "                                              aftertax_income1=vdf_1.atinc1,\n",
    "                                              aftertax_income2=vdf_1.atinc2)\n",
    "\n",
    "vdf_2['response'] = behresp.quantity_response(quantity=vdf_2.e19800,\n",
    "                                              price_elasticity=-0.4,\n",
    "                                              aftertax_price1=vdf_2.price1,\n",
    "                                              aftertax_price2=vdf_2.price2,\n",
    "                                              income_elasticity=0.1,\n",
    "                                              aftertax_income1=vdf_2.atinc1,\n",
    "                                              aftertax_income2=vdf_2.atinc2)\n",
    "\n",
    "vdf = pd.concat([vdf_1, vdf_2])\n",
    "\n",
    "# Add weighted totals.\n",
    "# Can also use microdf as mdf.add_weighted_totals(vdf, ['response', 'e19800'])\n",
    "vdf['e19800_b'] = vdf.s006 * vdf.e19800 / 1e9\n",
    "vdf['response_b'] = vdf.s006 * vdf.response / 1e9\n",
    "vdf['funits_m'] = vdf.s006 / 1e6\n",
    "\n",
    "SUM_VARS = ['funits_m', 'e19800_b', 'response_b']\n",
    "# Sum weighted total columns for each income group.\n",
    "grouped = vdf.groupby('table_row')[SUM_VARS].sum()\n",
    "# Add a total row and make the index a column for printing.\n",
    "grouped.loc['TOTAL'] = grouped.sum()\n",
    "grouped.reset_index(inplace=True)\n",
    "\n",
    "# Calculate percent response and drop unnecessary total.\n",
    "grouped['pct_response'] = 100 * grouped.response_b / grouped.e19800_b\n",
    "grouped.drop('e19800_b', axis=1, inplace=True)\n",
    "\n",
    "# Rename columns for printing.\n",
    "grouped.columns = ['Earnings Group', 'Num(#M)', 'Resp($B)', 'Resp(%)']"
   ]
  },
  {
   "cell_type": "markdown",
   "metadata": {},
   "source": [
    "Result: Response in Charitable Giving by Earnings Group"
   ]
  },
  {
   "cell_type": "code",
   "execution_count": null,
   "metadata": {
    "hide-output": false
   },
   "outputs": [],
   "source": [
    "grouped.round(3)"
   ]
  },
  {
   "cell_type": "code",
   "execution_count": null,
   "metadata": {},
   "outputs": [],
   "source": []
  }
 ],
 "metadata": {
  "celltoolbar": "Tags",
  "date": 1592702193.3395016,
  "download_nb": false,
  "filename": "recipe04_pandas.rst",
  "filename_with_path": "recipe04_pandas",
  "kernelspec": {
   "display_name": "Python 3",
   "language": "python",
   "name": "python3"
  },
  "language_info": {
   "codemirror_mode": {
    "name": "ipython",
    "version": 3
   },
   "file_extension": ".py",
   "mimetype": "text/x-python",
   "name": "python",
   "nbconvert_exporter": "python",
   "pygments_lexer": "ipython3",
   "version": "3.8.8"
  },
  "title": "Recipe 4: Estimating Differential Reform Response - pandas version"
 },
 "nbformat": 4,
 "nbformat_minor": 4
}
